{
 "cells": [
  {
   "cell_type": "code",
   "execution_count": 175,
   "metadata": {},
   "outputs": [],
   "source": [
    "import numpy as np\n",
    "import matplotlib.pyplot as plt\n",
    "import importlib\n",
    "\n",
    "import polyfit\n",
    "import integration"
   ]
  },
  {
   "cell_type": "markdown",
   "metadata": {},
   "source": [
    "## Test Lagrange Interpolation"
   ]
  },
  {
   "cell_type": "code",
   "execution_count": 220,
   "metadata": {},
   "outputs": [],
   "source": [
    "# Fit and evaluate on different points\n",
    "# Maximal degree Lagrange polynomial is trivially correct at fit points\n",
    "x_train = np.arange(0, 3)\n",
    "x_test = np.arange(0, 3, .01)\n",
    "\n",
    "f = lambda x: np.sin(x) / (x + 3) + np.cos(x) + np.exp(x)\n",
    "y_train, y_test = f(x_train), f(x_test)"
   ]
  },
  {
   "cell_type": "code",
   "execution_count": 221,
   "metadata": {},
   "outputs": [],
   "source": [
    "importlib.reload(polyfit)\n",
    "\n",
    "fit_f = polyfit.lagrange(x_train, y_train)\n",
    "fit_y = np.array([fit_f(x_test[i]) for i in range(len(x_test))])"
   ]
  },
  {
   "cell_type": "code",
   "execution_count": 222,
   "metadata": {},
   "outputs": [
    {
     "data": {
      "image/png": "[encoded data removed]",
      "text/plain": [
       "<Figure size 432x288 with 1 Axes>"
      ]
     },
     "metadata": {
      "needs_background": "light"
     },
     "output_type": "display_data"
    }
   ],
   "source": [
    "plt.scatter(x_train, y_train, color=\"red\")\n",
    "plt.plot(x_test, y_test, color=\"red\", label=\"f(x)\")\n",
    "plt.plot(x_test, fit_y, label=\"L(x)\")\n",
    "plt.legend();"
   ]
  },
  {
   "cell_type": "markdown",
   "metadata": {},
   "source": [
    "## Test Numerical Integration"
   ]
  },
  {
   "cell_type": "code",
   "execution_count": 216,
   "metadata": {},
   "outputs": [
    {
     "name": "stdout",
     "output_type": "stream",
     "text": [
      "Trapezoid relative error: 2.8545075883968455e-06\n",
      "Simpson relative error: 4.1229099161422416e-11\n"
     ]
    }
   ],
   "source": [
    "importlib.reload(integration)\n",
    "\n",
    "# Function to integrate\n",
    "f = lambda x: 1 / (x + 4)\n",
    "\n",
    "# Numerical integration parameters\n",
    "a = 0 # Interval start\n",
    "b = 2 # Interval end\n",
    "N = 100 # Interval subdivisions\n",
    "\n",
    "import scipy.integrate as integrate\n",
    "ref_int = integrate.quad(f, a, b)\n",
    "trap_int = integration.trapezoid(f, a, b, N)\n",
    "simp_int = integration.simpson(f, a, b, N)\n",
    "\n",
    "def rel_error(real, approx):\n",
    "    return abs(real - approx)/real\n",
    "\n",
    "trap_err = rel_error(ref_int[0], trap_int)\n",
    "simp_err = rel_error(ref_int[0], simp_int)\n",
    "\n",
    "print(\"Trapezoid relative error: {}\".format(trap_err))\n",
    "print(\"Simpson relative error: {}\".format(simp_err))"
   ]
  },
  {
   "cell_type": "code",
   "execution_count": null,
   "metadata": {},
   "outputs": [],
   "source": []
  }
 ],
 "metadata": {
  "kernelspec": {
   "display_name": "Python 3",
   "language": "python",
   "name": "python3"
  },
  "language_info": {
   "codemirror_mode": {
    "name": "ipython",
    "version": 3
   },
   "file_extension": ".py",
   "mimetype": "text/x-python",
   "name": "python",
   "nbconvert_exporter": "python",
   "pygments_lexer": "ipython3",
   "version": "3.7.7"
  }
 },
 "nbformat": 4,
 "nbformat_minor": 4
}
